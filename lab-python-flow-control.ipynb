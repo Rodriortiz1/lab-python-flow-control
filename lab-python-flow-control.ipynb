{
 "cells": [
  {
   "cell_type": "markdown",
   "id": "8c420814-51de-4214-a138-16b228052907",
   "metadata": {},
   "source": [
    "## Lab | Flow Control"
   ]
  },
  {
   "cell_type": "code",
   "execution_count": 64,
   "id": "0c7c1086-c75c-4426-9de7-5efc68433d2a",
   "metadata": {},
   "outputs": [],
   "source": [
    "inventory= {\n",
    "    't-shirt': 7, \n",
    "    'mug': 17, \n",
    "    'hat': 27, \n",
    "    'book': 37, \n",
    "    'keychain': 47,\n",
    "}"
   ]
  },
  {
   "cell_type": "code",
   "execution_count": 66,
   "id": "01383507-a95d-4888-b56c-269449bc147f",
   "metadata": {},
   "outputs": [],
   "source": [
    "customer_orders=set()"
   ]
  },
  {
   "cell_type": "code",
   "execution_count": 82,
   "id": "4fd566e2-15db-4d1c-b0ea-71bd46958bec",
   "metadata": {},
   "outputs": [],
   "source": [
    "##1 Instead of asking the user to input the name of three products that a customer wants to order, do the following:"
   ]
  },
  {
   "cell_type": "code",
   "execution_count": 68,
   "id": "5fa2a687-eb0c-45ee-9d39-bd3908069fac",
   "metadata": {},
   "outputs": [
    {
     "name": "stdin",
     "output_type": "stream",
     "text": [
      "ingrese el producto que desea:  hat\n",
      "¿desea otro producto? (si/no):  no\n"
     ]
    }
   ],
   "source": [
    "while True:\n",
    "    producto=input(\"ingrese el producto que desea: \")\n",
    "    customer_orders.add(producto)\n",
    "\n",
    "    otro_producto= input(\"¿desea otro producto? (si/no): \").strip().lower()\n",
    "    if otro_producto != \"si\":\n",
    "        break"
   ]
  },
  {
   "cell_type": "code",
   "execution_count": 84,
   "id": "ed4b9e60-096d-4b90-ba09-137c45f7a4df",
   "metadata": {},
   "outputs": [],
   "source": [
    "##Instead of updating the inventory by subtracting 1 from the quantity of each product, only do it for the products that were ordered (those in \"customer_orders\")."
   ]
  },
  {
   "cell_type": "code",
   "execution_count": 70,
   "id": "199f3ecf-9201-4529-b03b-7e6c5314b962",
   "metadata": {},
   "outputs": [],
   "source": [
    "for producto in customer_orders:\n",
    "    if producto in customer_orders:\n",
    "        inventory[producto]-=1"
   ]
  },
  {
   "cell_type": "code",
   "execution_count": 74,
   "id": "fb86a0f7-2415-4728-ba5d-20dbb2eaf152",
   "metadata": {},
   "outputs": [
    {
     "name": "stdout",
     "output_type": "stream",
     "text": [
      "Inventario actualizado:\n",
      "t-shirt: 7\n",
      "mug: 17\n",
      "hat: 26\n",
      "book: 37\n",
      "keychain: 47\n"
     ]
    }
   ],
   "source": [
    "print(\"Inventario actualizado:\")\n",
    "for producto, cantidad in inventory.items():\n",
    "    print(f\"{producto}: {cantidad}\")"
   ]
  },
  {
   "cell_type": "code",
   "execution_count": 76,
   "id": "f4e3a235-9f00-41f9-a44b-f65ffc3fce68",
   "metadata": {},
   "outputs": [
    {
     "name": "stdout",
     "output_type": "stream",
     "text": [
      "Productos pedidos por el cliente:\n",
      "hat\n"
     ]
    }
   ],
   "source": [
    "print(\"Productos pedidos por el cliente:\")\n",
    "for producto in customer_orders:\n",
    "    print(producto)"
   ]
  }
 ],
 "metadata": {
  "kernelspec": {
   "display_name": "Python 3 (ipykernel)",
   "language": "python",
   "name": "python3"
  },
  "language_info": {
   "codemirror_mode": {
    "name": "ipython",
    "version": 3
   },
   "file_extension": ".py",
   "mimetype": "text/x-python",
   "name": "python",
   "nbconvert_exporter": "python",
   "pygments_lexer": "ipython3",
   "version": "3.12.4"
  }
 },
 "nbformat": 4,
 "nbformat_minor": 5
}
